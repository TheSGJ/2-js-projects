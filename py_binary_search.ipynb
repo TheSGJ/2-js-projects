{
  "nbformat": 4,
  "nbformat_minor": 0,
  "metadata": {
    "colab": {
      "provenance": [],
      "collapsed_sections": [],
      "authorship_tag": "ABX9TyN5X7pQUgi5u8ASK0RCncg7",
      "include_colab_link": true
    },
    "kernelspec": {
      "name": "python3",
      "display_name": "Python 3"
    },
    "language_info": {
      "name": "python"
    }
  },
  "cells": [
    {
      "cell_type": "markdown",
      "metadata": {
        "id": "view-in-github",
        "colab_type": "text"
      },
      "source": [
        "<a href=\"https://colab.research.google.com/github/TheSGJ/2-js-projects/blob/master/py_binary_search.ipynb\" target=\"_parent\"><img src=\"https://colab.research.google.com/assets/colab-badge.svg\" alt=\"Open In Colab\"/></a>"
      ]
    },
    {
      "cell_type": "code",
      "execution_count": null,
      "metadata": {
        "id": "2YE_5scFue9h"
      },
      "outputs": [],
      "source": [
        "# Binary Search"
      ]
    },
    {
      "cell_type": "code",
      "source": [
        "pos = -1"
      ],
      "metadata": {
        "id": "OdiJfOtAYD4E"
      },
      "execution_count": null,
      "outputs": []
    },
    {
      "cell_type": "code",
      "source": [
        "list = [4,7,9,11,13,15]"
      ],
      "metadata": {
        "id": "6JNBpJ1_u1be"
      },
      "execution_count": null,
      "outputs": []
    },
    {
      "cell_type": "code",
      "source": [
        "n = 13"
      ],
      "metadata": {
        "id": "Pa3STmds5XgD"
      },
      "execution_count": null,
      "outputs": []
    },
    {
      "cell_type": "code",
      "source": [
        "<h2> Search for mid value: </h2>"
      ],
      "metadata": {
        "id": "TvTHv8gjZO25"
      },
      "execution_count": null,
      "outputs": []
    },
    {
      "cell_type": "code",
      "source": [
        "def search(list,n):\n",
        " l = 0\n",
        " u = len(list) - 1\n",
        " while l <= u:\n",
        "  mid = (l+u)//2\n",
        "  if list[mid]==n:\n",
        "   globals()['pos'] = mid\n",
        "   return True\n",
        "  else:\n",
        "   if list[mid]<n:\n",
        "    l=mid\n",
        "   else:\n",
        "    u = mid"
      ],
      "metadata": {
        "id": "McJrd18r4tCu"
      },
      "execution_count": null,
      "outputs": []
    },
    {
      "cell_type": "code",
      "source": [
        "if search(list, n):\n",
        " print(\"Found at \",pos+1)\n",
        "else:\n",
        " print(\"Not found\")"
      ],
      "metadata": {
        "colab": {
          "base_uri": "https://localhost:8080/"
        },
        "id": "nj8Q5kqpYVo_",
        "outputId": "6c73fbf7-e30a-40af-87b5-224a0d70690e"
      },
      "execution_count": null,
      "outputs": [
        {
          "output_type": "stream",
          "name": "stdout",
          "text": [
            "Found at  5\n"
          ]
        }
      ]
    }
  ]
}